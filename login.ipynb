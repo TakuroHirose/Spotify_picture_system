{
 "cells": [
  {
   "attachments": {},
   "cell_type": "markdown",
   "metadata": {},
   "source": [
    "〇Spotifyのログイン画面を作成するために頑張るところ\n",
    "\n",
    "cliant_id\n",
    "\n",
    "7b2123e613754cd48c3263f1ea02e1dc\n",
    "client_secret\n",
    "\n",
    "4dae54bdd6ef425189171bc74aacff70"
   ]
  }
 ],
 "metadata": {
  "kernelspec": {
   "display_name": "Python 3",
   "language": "python",
   "name": "python3"
  },
  "language_info": {
   "name": "python",
   "version": "3.11.3"
  },
  "orig_nbformat": 4
 },
 "nbformat": 4,
 "nbformat_minor": 2
}
