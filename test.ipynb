{
 "cells": [
  {
   "cell_type": "code",
   "execution_count": null,
   "metadata": {},
   "outputs": [],
   "source": [
    "#三目並べ\n",
    "\n",
    "import random\n",
    "\n",
    "def drawBoard(board):\n",
    "    print(\"   |   |\")\n",
    "    print(\" \" + board[7] + \" | \" + board[8] + \" | \" + board[9])\n",
    "    print(\"   |   |\")\n",
    "    print(\"-----------\")\n",
    "    print(\"   |   |\")\n",
    "    print(\" \" + board[4] + \" | \" + board[5] + \" | \" + board[6])\n",
    "    print(\"   |   |\")\n",
    "    print(\"-----------\")\n",
    "    print(\"   |   |\")\n",
    "    print(\" \" + board[1] + \" | \" + board[2] + \" | \" + board[3])\n",
    "    print(\"   |   |\")\n",
    "\n",
    "def inputPlayerLetter():\n",
    "    letter = \"\"\n",
    "    while not (letter == \"X\" or letter == \"O\"):\n",
    "        print(\"XかOを選んでください\")\n",
    "        letter = input().upper()\n",
    "    if letter == \"X\":\n",
    "        return [\"X\",\"O\"]\n",
    "    else:\n",
    "        return [\"O\",\"X\"]\n",
    "    \n",
    "def whoGoesFirst():\n",
    "    if random.randint(0,1) == 0:\n",
    "        return \"computer\"\n",
    "    else:\n",
    "        return \"player\"\n",
    "    \n",
    "def playAgain():\n",
    "    print(\"もう一度やりますか？(y/n)\")\n",
    "    return input().lower().startswith(\"y\")\n",
    "\n",
    "def makeMove(board,letter,move):\n",
    "    board[move] = letter\n",
    "\n",
    "def isWinner(bo,le):\n",
    "    \n"
   ]
  }
 ],
 "metadata": {
  "kernelspec": {
   "display_name": "venv",
   "language": "python",
   "name": "python3"
  },
  "language_info": {
   "name": "python",
   "version": "3.11.1"
  },
  "orig_nbformat": 4
 },
 "nbformat": 4,
 "nbformat_minor": 2
}
