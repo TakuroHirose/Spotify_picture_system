{
 "cells": [
  {
   "attachments": {},
   "cell_type": "markdown",
   "metadata": {},
   "source": [
    "ここに本コードを入力"
   ]
  },
  {
   "attachments": {},
   "cell_type": "markdown",
   "metadata": {},
   "source": [
    "Flaskとは\n",
    "Flask（フラスコ/フラスク）はPythonのWebアプリケーションフレームワークで、小規模向けの簡単なWebアプリケーションを作るのに適しています。\n",
    "Webフレームワークとは、ウェブサイトやウェブアプリケーションを作るための機能を提供し、ウェブフレームワークを使わない時よりもより容易にWebアプリケーションを作ることができるものです。\n",
    "ちなみに、PythonにはいくつものWebアプリケーションフレームワークがあり、\n",
    "例えば、Djnago(ジャンゴ)やpyramid、bottleなど他にもありますが、\n",
    "この章では、学習コストの低いFlaskを扱って行きます。\n",
    "\n",
    "Flaskのインストール\n",
    "pip install flask\n",
    "Mac OSの方は、ターミナルを起動し、Windowsの方はコマンドプロンプト(cmd)を起動し、上記のpipコマンドにてflaskをインストールしてください。\n",
    "インストールが終えたら、実際にインストールが成功したか確認します。\n",
    "\n",
    "確認のため、Pythonの対話型シェルを起動します。\n",
    "起動するには、pythonコマンドを入力&実行することで、Pythonの対話型シェル（インタラクティブシェル）に切り替えます。\n",
    "それでは、以下のコードを実行してみましょう。\n",
    "\n",
    "python\n",
    "Pythonの対話型シェル（インタラクティブシェル）で入力&実行する部分は>>>の後からです。\n",
    "次の>>>部分は入力してなくて大丈夫です。\n"
   ]
  },
  {
   "cell_type": "code",
   "execution_count": 2,
   "metadata": {},
   "outputs": [
    {
     "data": {
      "text/plain": [
       "'2.3.1'"
      ]
     },
     "execution_count": 2,
     "metadata": {},
     "output_type": "execute_result"
    }
   ],
   "source": [
    "import flask\n",
    "flask.__version__"
   ]
  },
  {
   "attachments": {},
   "cell_type": "markdown",
   "metadata": {},
   "source": [
    "バージョンが表示されればインストール成功です。\n",
    "ターミナルやコマンドプロンプトは一旦閉じて終了してください。\n",
    "※ターミナルやコマンドプロンプトを終了する場合は、そのまま閉じるか、exit()コマンドを用いることでも終了可能です。\n",
    "※表示されるバージョンはインストールした時期によってテキストと異なる場合がございます。"
   ]
  }
 ],
 "metadata": {
  "kernelspec": {
   "display_name": "venv",
   "language": "python",
   "name": "python3"
  },
  "language_info": {
   "codemirror_mode": {
    "name": "ipython",
    "version": 3
   },
   "file_extension": ".py",
   "mimetype": "text/x-python",
   "name": "python",
   "nbconvert_exporter": "python",
   "pygments_lexer": "ipython3",
   "version": "3.11.1"
  },
  "orig_nbformat": 4
 },
 "nbformat": 4,
 "nbformat_minor": 2
}
