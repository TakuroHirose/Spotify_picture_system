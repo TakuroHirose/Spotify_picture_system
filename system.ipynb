{
 "cells": [
  {
   "attachments": {},
   "cell_type": "markdown",
   "metadata": {},
   "source": [
    "ここにコードを書いていこう\n",
    "pip install jupyter必須"
   ]
  },
  {
   "cell_type": "code",
   "execution_count": 1,
   "metadata": {},
   "outputs": [],
   "source": [
    "def func(x,y):\n",
    "    z = x + y\n",
    "    return z\n",
    "s=\"SSS\""
   ]
  },
  {
   "attachments": {},
   "cell_type": "markdown",
   "metadata": {},
   "source": [
    "メモ"
   ]
  },
  {
   "cell_type": "code",
   "execution_count": null,
   "metadata": {},
   "outputs": [],
   "source": [
    "print(\"Hellow World\")\n",
    "print(s)"
   ]
  },
  {
   "cell_type": "code",
   "execution_count": 5,
   "metadata": {},
   "outputs": [
    {
     "name": "stdout",
     "output_type": "stream",
     "text": [
      "4\n"
     ]
    }
   ],
   "source": [
    "a = 1\n",
    "b = 3\n",
    "\n",
    "c = func(a,b)\n",
    "print(c)"
   ]
  },
  {
   "cell_type": "code",
   "execution_count": 5,
   "metadata": {},
   "outputs": [],
   "source": [
    "def fib(n):\n",
    "    a,b=0,1\n",
    "    while a<n:\n",
    "        print(a,end=' ')\n",
    "        a,b=b,a+b\n",
    "    print()"
   ]
  },
  {
   "cell_type": "code",
   "execution_count": 6,
   "metadata": {},
   "outputs": [
    {
     "name": "stdout",
     "output_type": "stream",
     "text": [
      "0 1 1 2 3 5 8 13 21 34 55 89 144 233 377 610 987 \n"
     ]
    }
   ],
   "source": [
    "fib(1000)"
   ]
  },
  {
   "cell_type": "code",
   "execution_count": 9,
   "metadata": {},
   "outputs": [],
   "source": [
    "#素数を判定するプログラム\n",
    "#判定は「その数字は素数か？」という問いに対して「Yes」か「No」で答えること\n",
    "def is_prime(n):\n",
    "    if n<2:\n",
    "        return False\n",
    "    if n==2:\n",
    "        return True\n",
    "    if n%2==0:\n",
    "        return False\n",
    "    i=3\n",
    "    while i*i<=n:\n",
    "        if n%i==0:\n",
    "            return False\n",
    "        i+=2\n",
    "    return True\n"
   ]
  },
  {
   "cell_type": "code",
   "execution_count": 12,
   "metadata": {},
   "outputs": [
    {
     "data": {
      "text/plain": [
       "False"
      ]
     },
     "execution_count": 12,
     "metadata": {},
     "output_type": "execute_result"
    }
   ],
   "source": [
    "is_prime(12)"
   ]
  },
  {
   "cell_type": "code",
   "execution_count": 14,
   "metadata": {},
   "outputs": [
    {
     "name": "stdout",
     "output_type": "stream",
     "text": [
      "じゃんけんをしましょう\n",
      "グー：0 チョキ：1 パー：2\n",
      "じゃーんけーん\n",
      "ぽん！\n",
      "あいこ\n"
     ]
    }
   ],
   "source": [
    "#じゃんけんじゃんけんをするプログラム\n",
    "#じゃんけんは「グー」「チョキ」「パー」のいずれかを出す\n",
    "\n",
    "import random\n",
    "print(\"じゃんけんをしましょう\")\n",
    "print(\"グー：0 チョキ：1 パー：2\")\n",
    "print(\"じゃーんけーん\")\n",
    "print(\"ぽん！\")\n",
    "\n",
    "player = int(input(\"あなたの手は？\"))\n",
    "computer = random.randint(0,2)\n",
    "\n",
    "if player == 0:\n",
    "    if computer == 0:\n",
    "        print(\"あいこ\")\n",
    "    elif computer == 1:\n",
    "        print(\"あなたの勝ち\")\n",
    "    else:\n",
    "        print(\"あなたの負け\")\n",
    "\n",
    "elif player == 1:\n",
    "    if computer == 0:\n",
    "        print(\"あなたの負け\")\n",
    "    elif computer == 1:\n",
    "        print(\"あいこ\")\n",
    "    else:\n",
    "        print(\"あなたの勝ち\")\n",
    "\n",
    "elif player == 2:\n",
    "    if computer == 0:\n",
    "        print(\"あなたの勝ち\")\n",
    "    elif computer == 1:\n",
    "        print(\"あなたの負け\")\n",
    "    else:\n",
    "        print(\"あいこ\")\n",
    "\n",
    "else:\n",
    "    print(\"0~2の数字を入力してください\")\n"
   ]
  },
  {
   "cell_type": "code",
   "execution_count": 1,
   "metadata": {},
   "outputs": [
    {
     "ename": "SyntaxError",
     "evalue": "incomplete input (3002365147.py, line 43)",
     "output_type": "error",
     "traceback": [
      "\u001b[1;36m  Cell \u001b[1;32mIn[1], line 43\u001b[1;36m\u001b[0m\n\u001b[1;33m    \u001b[0m\n\u001b[1;37m    ^\u001b[0m\n\u001b[1;31mSyntaxError\u001b[0m\u001b[1;31m:\u001b[0m incomplete input\n"
     ]
    }
   ],
   "source": [
    "#三目並べ\n",
    "\n",
    "import random\n",
    "\n",
    "def drawBoard(board):\n",
    "    print(\"   |   |\")\n",
    "    print(\" \" + board[7] + \" | \" + board[8] + \" | \" + board[9])\n",
    "    print(\"   |   |\")\n",
    "    print(\"-----------\")\n",
    "    print(\"   |   |\")\n",
    "    print(\" \" + board[4] + \" | \" + board[5] + \" | \" + board[6])\n",
    "    print(\"   |   |\")\n",
    "    print(\"-----------\")\n",
    "    print(\"   |   |\")\n",
    "    print(\" \" + board[1] + \" | \" + board[2] + \" | \" + board[3])\n",
    "    print(\"   |   |\")\n",
    "\n",
    "def inputPlayerLetter():\n",
    "    letter = \"\"\n",
    "    while not (letter == \"X\" or letter == \"O\"):\n",
    "        print(\"XかOを選んでください\")\n",
    "        letter = input().upper()\n",
    "    if letter == \"X\":\n",
    "        return [\"X\",\"O\"]\n",
    "    else:\n",
    "        return [\"O\",\"X\"]\n",
    "    \n",
    "def whoGoesFirst():\n",
    "    if random.randint(0,1) == 0:\n",
    "        return \"computer\"\n",
    "    else:\n",
    "        return \"player\"\n",
    "    \n",
    "def playAgain():\n",
    "    print(\"もう一度やりますか？(y/n)\")\n",
    "    return input().lower().startswith(\"y\")\n",
    "\n",
    "    \n"
   ]
  },
  {
   "cell_type": "code",
   "execution_count": 2,
   "metadata": {},
   "outputs": [
    {
     "name": "stdout",
     "output_type": "stream",
     "text": [
      " 1   1    1\n",
      " 2   4    8\n",
      " 3   9   27\n",
      " 4  16   64\n",
      " 5  25  125\n",
      " 6  36  216\n",
      " 7  49  343\n",
      " 8  64  512\n",
      " 9  81  729\n",
      "10 100 1000\n"
     ]
    }
   ],
   "source": [
    "for x in range(1,11):\n",
    "    print(repr(x).rjust(2),repr(x*x).rjust(3),end=' ')\n",
    "    print(repr(x*x*x).rjust(4))"
   ]
  }
 ],
 "metadata": {
  "kernelspec": {
   "display_name": "venv",
   "language": "python",
   "name": "python3"
  },
  "language_info": {
   "codemirror_mode": {
    "name": "ipython",
    "version": 3
   },
   "file_extension": ".py",
   "mimetype": "text/x-python",
   "name": "python",
   "nbconvert_exporter": "python",
   "pygments_lexer": "ipython3",
   "version": "3.11.3"
  },
  "orig_nbformat": 4
 },
 "nbformat": 4,
 "nbformat_minor": 2
}
